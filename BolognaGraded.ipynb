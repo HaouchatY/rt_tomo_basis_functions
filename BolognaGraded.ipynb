{
  "cells": [
    {
      "cell_type": "markdown",
      "metadata": {
        "id": "SAB9Lcj9gyPf"
      },
      "source": [
        "Bologna Mathematics and Machine Learning for Image Analysis\n",
        "\n",
        "Graded Assessment\n",
        "\n",
        "Notebook authors: U. Kamilov, E. Chandler\n",
        "\n",
        "Computational Imaging Group (CIG), WashU"
      ]
    },
    {
      "cell_type": "markdown",
      "metadata": {
        "id": "0r9YYJyPDzzt"
      },
      "source": [
        "# Complete this notebook\n",
        "Similar to the lab, there will be parts that say `NotImplemented`. Make sure to complete these parts. Additionally, there are two questions at the end to which you should give a brief response."
      ]
    },
    {
      "cell_type": "markdown",
      "metadata": {
        "id": "78CYELsiCHNu"
      },
      "source": [
        "# Set Up Environment\n",
        "First, make a copy of this notebook to your drive by to File -> Save a copy in  drive.\n",
        "\n",
        "Connect to a T4 GPU by clicking the dropdown button in the top right, clicking \"Change runtime type\" and selecting \"T4 GPU\". This will make everything run faster."
      ]
    },
    {
      "cell_type": "code",
      "execution_count": 1,
      "metadata": {
        "id": "-0JnKQgiwpZm"
      },
      "outputs": [
        {
          "name": "stdout",
          "output_type": "stream",
          "text": [
            "  % Total    % Received % Xferd  Average Speed   Time    Time     Time  Current\n",
            "                                 Dload  Upload   Total   Spent    Left  Speed\n",
            "100  1135  100  1135    0     0   7183      0 --:--:-- --:--:-- --:--:--  7183\n",
            "Warning: Failed to create the file /content/drunet_color.pth: No such file or \n",
            "Warning: directory\n",
            "  0  124M    0 15901    0     0  43804      0  0:49:40 --:--:--  0:49:40 43804\n",
            "curl: (23) Failed writing body (0 != 15901)\n"
          ]
        }
      ],
      "source": [
        "# Download pretrained weights (from DPIR paper)\n",
        "!curl -L https://huggingface.co/deepinv/drunet/resolve/main/drunet_color.pth?download=true --output /content/drunet_color.pth"
      ]
    },
    {
      "cell_type": "code",
      "execution_count": 2,
      "metadata": {
        "collapsed": true,
        "id": "IDwDIWVAAENS"
      },
      "outputs": [
        {
          "name": "stdout",
          "output_type": "stream",
          "text": [
            "Requirement already satisfied: deepinv in /home/haouchat/miniconda3/envs/pyxu/lib/python3.11/site-packages (0.2.0)\n",
            "Requirement already satisfied: numpy in /home/haouchat/miniconda3/envs/pyxu/lib/python3.11/site-packages (from deepinv) (1.26.3)\n",
            "Requirement already satisfied: matplotlib in /home/haouchat/miniconda3/envs/pyxu/lib/python3.11/site-packages (from deepinv) (3.8.4)\n",
            "Requirement already satisfied: hdf5storage in /home/haouchat/miniconda3/envs/pyxu/lib/python3.11/site-packages (from deepinv) (0.1.19)\n",
            "Requirement already satisfied: tqdm in /home/haouchat/miniconda3/envs/pyxu/lib/python3.11/site-packages (from deepinv) (4.66.1)\n",
            "Requirement already satisfied: torch in /home/haouchat/miniconda3/envs/pyxu/lib/python3.11/site-packages (from deepinv) (2.1.2)\n",
            "Requirement already satisfied: torchvision in /home/haouchat/miniconda3/envs/pyxu/lib/python3.11/site-packages (from deepinv) (0.16.2)\n",
            "Requirement already satisfied: einops in /home/haouchat/miniconda3/envs/pyxu/lib/python3.11/site-packages (from deepinv) (0.8.0)\n",
            "Requirement already satisfied: wandb in /home/haouchat/miniconda3/envs/pyxu/lib/python3.11/site-packages (from deepinv) (0.17.0)\n",
            "Requirement already satisfied: h5py>=2.1 in /home/haouchat/miniconda3/envs/pyxu/lib/python3.11/site-packages (from hdf5storage->deepinv) (3.11.0)\n",
            "Requirement already satisfied: contourpy>=1.0.1 in /home/haouchat/miniconda3/envs/pyxu/lib/python3.11/site-packages (from matplotlib->deepinv) (1.2.0)\n",
            "Requirement already satisfied: cycler>=0.10 in /home/haouchat/miniconda3/envs/pyxu/lib/python3.11/site-packages (from matplotlib->deepinv) (0.12.1)\n",
            "Requirement already satisfied: fonttools>=4.22.0 in /home/haouchat/miniconda3/envs/pyxu/lib/python3.11/site-packages (from matplotlib->deepinv) (4.47.2)\n",
            "Requirement already satisfied: kiwisolver>=1.3.1 in /home/haouchat/miniconda3/envs/pyxu/lib/python3.11/site-packages (from matplotlib->deepinv) (1.4.5)\n",
            "Requirement already satisfied: packaging>=20.0 in /home/haouchat/miniconda3/envs/pyxu/lib/python3.11/site-packages (from matplotlib->deepinv) (24.0)\n",
            "Requirement already satisfied: pillow>=8 in /home/haouchat/miniconda3/envs/pyxu/lib/python3.11/site-packages (from matplotlib->deepinv) (10.2.0)\n",
            "Requirement already satisfied: pyparsing>=2.3.1 in /home/haouchat/miniconda3/envs/pyxu/lib/python3.11/site-packages (from matplotlib->deepinv) (3.1.1)\n",
            "Requirement already satisfied: python-dateutil>=2.7 in /home/haouchat/miniconda3/envs/pyxu/lib/python3.11/site-packages (from matplotlib->deepinv) (2.8.2)\n",
            "Requirement already satisfied: filelock in /home/haouchat/miniconda3/envs/pyxu/lib/python3.11/site-packages (from torch->deepinv) (3.13.1)\n",
            "Requirement already satisfied: typing-extensions in /home/haouchat/miniconda3/envs/pyxu/lib/python3.11/site-packages (from torch->deepinv) (4.9.0)\n",
            "Requirement already satisfied: sympy in /home/haouchat/miniconda3/envs/pyxu/lib/python3.11/site-packages (from torch->deepinv) (1.12)\n",
            "Requirement already satisfied: networkx in /home/haouchat/miniconda3/envs/pyxu/lib/python3.11/site-packages (from torch->deepinv) (3.1)\n",
            "Requirement already satisfied: jinja2 in /home/haouchat/miniconda3/envs/pyxu/lib/python3.11/site-packages (from torch->deepinv) (3.1.3)\n",
            "Requirement already satisfied: fsspec in /home/haouchat/miniconda3/envs/pyxu/lib/python3.11/site-packages (from torch->deepinv) (2023.12.2)\n",
            "Requirement already satisfied: requests in /home/haouchat/miniconda3/envs/pyxu/lib/python3.11/site-packages (from torchvision->deepinv) (2.31.0)\n",
            "Requirement already satisfied: click!=8.0.0,>=7.1 in /home/haouchat/miniconda3/envs/pyxu/lib/python3.11/site-packages (from wandb->deepinv) (8.1.7)\n",
            "Requirement already satisfied: docker-pycreds>=0.4.0 in /home/haouchat/miniconda3/envs/pyxu/lib/python3.11/site-packages (from wandb->deepinv) (0.4.0)\n",
            "Requirement already satisfied: gitpython!=3.1.29,>=1.0.0 in /home/haouchat/miniconda3/envs/pyxu/lib/python3.11/site-packages (from wandb->deepinv) (3.1.43)\n",
            "Requirement already satisfied: platformdirs in /home/haouchat/miniconda3/envs/pyxu/lib/python3.11/site-packages (from wandb->deepinv) (4.1.0)\n",
            "Requirement already satisfied: protobuf!=4.21.0,<5,>=3.19.0 in /home/haouchat/miniconda3/envs/pyxu/lib/python3.11/site-packages (from wandb->deepinv) (4.25.3)\n",
            "Requirement already satisfied: psutil>=5.0.0 in /home/haouchat/miniconda3/envs/pyxu/lib/python3.11/site-packages (from wandb->deepinv) (5.9.8)\n",
            "Requirement already satisfied: pyyaml in /home/haouchat/miniconda3/envs/pyxu/lib/python3.11/site-packages (from wandb->deepinv) (6.0.1)\n",
            "Requirement already satisfied: sentry-sdk>=1.0.0 in /home/haouchat/miniconda3/envs/pyxu/lib/python3.11/site-packages (from wandb->deepinv) (2.1.1)\n",
            "Requirement already satisfied: setproctitle in /home/haouchat/miniconda3/envs/pyxu/lib/python3.11/site-packages (from wandb->deepinv) (1.3.3)\n",
            "Requirement already satisfied: setuptools in /home/haouchat/miniconda3/envs/pyxu/lib/python3.11/site-packages (from wandb->deepinv) (68.2.2)\n",
            "Requirement already satisfied: six>=1.4.0 in /home/haouchat/miniconda3/envs/pyxu/lib/python3.11/site-packages (from docker-pycreds>=0.4.0->wandb->deepinv) (1.16.0)\n",
            "Requirement already satisfied: gitdb<5,>=4.0.1 in /home/haouchat/miniconda3/envs/pyxu/lib/python3.11/site-packages (from gitpython!=3.1.29,>=1.0.0->wandb->deepinv) (4.0.11)\n",
            "Requirement already satisfied: charset-normalizer<4,>=2 in /home/haouchat/miniconda3/envs/pyxu/lib/python3.11/site-packages (from requests->torchvision->deepinv) (3.1.0)\n",
            "Requirement already satisfied: idna<4,>=2.5 in /home/haouchat/miniconda3/envs/pyxu/lib/python3.11/site-packages (from requests->torchvision->deepinv) (3.4)\n",
            "Requirement already satisfied: urllib3<3,>=1.21.1 in /home/haouchat/miniconda3/envs/pyxu/lib/python3.11/site-packages (from requests->torchvision->deepinv) (2.1.0)\n",
            "Requirement already satisfied: certifi>=2017.4.17 in /home/haouchat/miniconda3/envs/pyxu/lib/python3.11/site-packages (from requests->torchvision->deepinv) (2023.11.17)\n",
            "Requirement already satisfied: MarkupSafe>=2.0 in /home/haouchat/miniconda3/envs/pyxu/lib/python3.11/site-packages (from jinja2->torch->deepinv) (2.1.3)\n",
            "Requirement already satisfied: mpmath>=0.19 in /home/haouchat/miniconda3/envs/pyxu/lib/python3.11/site-packages (from sympy->torch->deepinv) (1.3.0)\n",
            "Requirement already satisfied: smmap<6,>=3.0.1 in /home/haouchat/miniconda3/envs/pyxu/lib/python3.11/site-packages (from gitdb<5,>=4.0.1->gitpython!=3.1.29,>=1.0.0->wandb->deepinv) (5.0.1)\n",
            "Note: you may need to restart the kernel to use updated packages.\n"
          ]
        }
      ],
      "source": [
        "%pip install deepinv"
      ]
    },
    {
      "cell_type": "code",
      "execution_count": 4,
      "metadata": {
        "id": "ZIrgof8xAGR6"
      },
      "outputs": [
        {
          "name": "stdout",
          "output_type": "stream",
          "text": [
            "Selected GPU 0 with 32507 MB free memory \n"
          ]
        }
      ],
      "source": [
        "import torch\n",
        "import numpy as np\n",
        "import cv2\n",
        "import deepinv as dinv\n",
        "import matplotlib.pyplot as plt\n",
        "from deepinv.utils.demo import load_degradation, load_url_image, get_image_url\n",
        "from deepinv.utils.plotting import plot\n",
        "from pathlib import Path\n",
        "from torchvision import transforms\n",
        "from deepinv.datasets import generate_dataset\n",
        "from torch.utils.data import DataLoader\n",
        "import os\n",
        "from tqdm import tqdm\n",
        "\n",
        "device = dinv.utils.get_freer_gpu() if torch.cuda.is_available() else \"cpu\"\n"
      ]
    },
    {
      "cell_type": "markdown",
      "metadata": {
        "id": "IjQURTQTCwsT"
      },
      "source": [
        "# Get ground truth image"
      ]
    },
    {
      "cell_type": "code",
      "execution_count": 5,
      "metadata": {
        "id": "A_WL8UIIHIDn"
      },
      "outputs": [
        {
          "data": {
            "image/png": "[encoded data removed]",
            "text/plain": [
              "<Figure size 200x200 with 1 Axes>"
            ]
          },
          "metadata": {},
          "output_type": "display_data"
        }
      ],
      "source": [
        "img_size = 128\n",
        "\n",
        "url = get_image_url(\"CBSD_0010.png\")\n",
        "x_true = load_url_image(url=url, img_size=img_size, device=device)\n",
        "\n",
        "x = x_true.clone()\n",
        "\n",
        "plot(\n",
        "    x_true,\n",
        "    titles=\"ground-truth\",\n",
        ")"
      ]
    },
    {
      "cell_type": "markdown",
      "metadata": {
        "id": "RGay1OUoweyk"
      },
      "source": [
        "# Forward Model\n",
        "Complete this cell to generate the measurement using deepinv. We are going to be using downsampling physics model from deepinv https://deepinv.github.io/deepinv/stubs/deepinv.physics.Downsampling.html#deepinv.physics.Downsampling"
      ]
    },
    {
      "cell_type": "code",
      "execution_count": 6,
      "metadata": {
        "id": "f0JxkiZcvywM"
      },
      "outputs": [
        {
          "ename": "AttributeError",
          "evalue": "module 'deepinv.physics' has no attribute 'NoiseModel'",
          "output_type": "error",
          "traceback": [
            "\u001b[0;31m---------------------------------------------------------------------------\u001b[0m",
            "\u001b[0;31mAttributeError\u001b[0m                            Traceback (most recent call last)",
            "Cell \u001b[0;32mIn[6], line 15\u001b[0m\n\u001b[1;32m      6\u001b[0m kernel_torch \u001b[38;5;241m=\u001b[39m dinv\u001b[38;5;241m.\u001b[39mphysics\u001b[38;5;241m.\u001b[39mblur\u001b[38;5;241m.\u001b[39mgaussian_blur(\n\u001b[1;32m      7\u001b[0m     sigma\u001b[38;5;241m=\u001b[39m(\u001b[38;5;241m1\u001b[39m,\u001b[38;5;241m1\u001b[39m)\n\u001b[1;32m      8\u001b[0m )\u001b[38;5;241m.\u001b[39mto(device)\n\u001b[1;32m     10\u001b[0m \u001b[38;5;66;03m# Set up the downsampling operator with the blur kernel set as the filter,\u001b[39;00m\n\u001b[1;32m     11\u001b[0m \u001b[38;5;66;03m# meas_sigma as the Gaussian noise sigma for noise_model, and (downsampling) factor equal to 2\u001b[39;00m\n\u001b[1;32m     12\u001b[0m \u001b[38;5;66;03m# See https://deepinv.github.io/deepinv/stubs/deepinv.physics.Downsampling.html#deepinv.physics.Downsampling\u001b[39;00m\n\u001b[1;32m     13\u001b[0m physics \u001b[38;5;241m=\u001b[39m dinv\u001b[38;5;241m.\u001b[39mphysics\u001b[38;5;241m.\u001b[39mDownsampling(\n\u001b[1;32m     14\u001b[0m     factor\u001b[38;5;241m=\u001b[39m\u001b[38;5;241m2\u001b[39m,\n\u001b[0;32m---> 15\u001b[0m     noise_model\u001b[38;5;241m=\u001b[39m\u001b[43mdinv\u001b[49m\u001b[38;5;241;43m.\u001b[39;49m\u001b[43mphysics\u001b[49m\u001b[38;5;241;43m.\u001b[39;49m\u001b[43mNoiseModel\u001b[49m\u001b[38;5;241m.\u001b[39mGaussian(sigma\u001b[38;5;241m=\u001b[39mmeas_sigma),\n\u001b[1;32m     16\u001b[0m     kernel\u001b[38;5;241m=\u001b[39mkernel_torch\n\u001b[1;32m     17\u001b[0m )\n\u001b[1;32m     19\u001b[0m \u001b[38;5;66;03m# Acquire the measurement using physics\u001b[39;00m\n\u001b[1;32m     20\u001b[0m meas \u001b[38;5;241m=\u001b[39m physics(x_true)\n",
            "\u001b[0;31mAttributeError\u001b[0m: module 'deepinv.physics' has no attribute 'NoiseModel'"
          ]
        }
      ],
      "source": [
        "psnr = dinv.loss.PSNR(max_pixel=1.0) # for calculating PSNR\n",
        "\n",
        "meas_sigma = 0.01 # measurement noise level\n",
        "\n",
        "# Set up bluring operator.\n",
        "kernel_torch = dinv.physics.blur.gaussian_blur(\n",
        "    sigma=(1,1)\n",
        ").to(device)\n",
        "\n",
        "# Set up the downsampling operator with the blur kernel set as the filter,\n",
        "# meas_sigma as the Gaussian noise sigma for noise_model, and (downsampling) factor equal to 2\n",
        "# See https://deepinv.github.io/deepinv/stubs/deepinv.physics.Downsampling.html#deepinv.physics.Downsampling\n",
        "physics = dinv.physics.Downsampling(\n",
        "    factor=2,\n",
        "    noise_model=dinv.physics.NoiseModel.Gaussian(sigma=meas_sigma),\n",
        "    kernel=kernel_torch\n",
        ")\n",
        "\n",
        "# Acquire the measurement using physics\n",
        "meas = physics(x_true)\n",
        "\n",
        "# Use the adjoing of A for an initial \"guess\" of x.\n",
        "adjoint_meas = physics.adjoint(meas)\n",
        "\n",
        "# Use the adjoint of the measurement to compute the PSNR\n",
        "adjoint_psnr = psnr( x_true.cpu(), adjoint_meas.cpu() ).item()\n",
        "\n",
        "print(f\"adjoint meas PSNR: {adjoint_psnr:0.2f}\")\n",
        "\n",
        "plot(\n",
        "    [  x_true, meas, adjoint_meas ],\n",
        "    titles=[\"ground-truth\", \"measurement\", \"A^T measurement\"]\n",
        ")\n"
      ]
    },
    {
      "cell_type": "markdown",
      "metadata": {
        "id": "yKJocyE5BVVm"
      },
      "source": [
        "# Set Up PnP-HQS Algorithm\n",
        "We will be using a half quadratic splitting (HQS) variant of PnP to solve the inverse problem.\n",
        "Similar to PnP-ADMM, that we saw in the lab, PnP-HQS minimizes in an alternating fashion the following Lagrangian\n",
        "\n",
        "$$\\frac{1}{2} \\| y - Ax \\|_2^2 + \\lambda h(z) + \\frac{\\mu}{2} \\| x - z \\|_2^2$$\n",
        "As an exercise, develop the iterations of PnP-HQS by minimizing over x and z.\n",
        "\n",
        "For this exercise, assume that $\\text{prox}_{\\gamma h}(x) = \\cal{D}_{\\gamma}(x)$; that is, $\\gamma$ is the noise level to feed to the denoiser.\n",
        "(Note that really it should be slightly different, but for simplicity this is okay. If you want to use PnP-HQS outside of this notebook, follow DPIR)."
      ]
    },
    {
      "cell_type": "markdown",
      "metadata": {
        "id": "x6dOjYP95Hmq"
      },
      "source": [
        "Now that you have developed the iterations, complete the pnp_hqs function to implement it."
      ]
    },
    {
      "cell_type": "code",
      "execution_count": null,
      "metadata": {
        "id": "AShAbWX9gUI2"
      },
      "outputs": [],
      "source": [
        "# mu schedule for PnP-HQS (Do not change this)\n",
        "def get_mus(lam, num_iter, anneal=True):\n",
        "  if anneal:\n",
        "    mu_min = lam / (49. / 255.)\n",
        "    mu_max = lam / (meas_sigma)\n",
        "\n",
        "    mus = np.logspace(np.log10( mu_min ), np.log10( mu_max ), num_iter, base=10)\n",
        "\n",
        "  else:\n",
        "    mus = np.array([ lam / (6. / 255.) for _ in range(num_iter) ])\n",
        "\n",
        "  return mus\n",
        "\n",
        "# PnP HQS algorithm\n",
        "def pnp_hqs(\n",
        "            x_true,\n",
        "            y,\n",
        "            data_fidelity,\n",
        "            network,\n",
        "            num_iter,\n",
        "            lam,\n",
        "            mus\n",
        "):\n",
        "  '''\n",
        "  x_true: ground truth image\n",
        "  y: measurement\n",
        "  data_fidelity: data fidelity term for reconstruction (we'll be using 0.5 || y - Ax ||)\n",
        "  network: DNN used as image prior\n",
        "  num_iter: number of PnP iterations to run\n",
        "  lam: see above equation\n",
        "  mus: see above equation\n",
        "  '''\n",
        "  # Make sure network in eval mode\n",
        "  network.eval()\n",
        "\n",
        "  # Initialize Variables\n",
        "  x = NotImplemented # A.Ty\n",
        "  z = NotImplemented # A.Ty\n",
        "\n",
        "  # Track the data fidelity and psnrs of each iteration\n",
        "  losses = [ data_fidelity(z,y, physics).item() ] # The data fidelity losses\n",
        "  psnrs = [ psnr( x_true.cpu(), x.cpu() ).item() ]\n",
        "\n",
        "  with torch.no_grad():\n",
        "    for k in tqdm(range(num_iter)):\n",
        "      z_prev = z\n",
        "      mu = mus[k]\n",
        "\n",
        "      # HQS updates\n",
        "\n",
        "      # 1. Data fidelity proximal step\n",
        "      # deepinv has this automatically implemented. Just fill out the parameters.\n",
        "      x = NotImplemented\n",
        "\n",
        "      # 2. Prior Step (through denoiser)\n",
        "      noise_level = NotImplemented\n",
        "      z = network( x, noise_level )\n",
        "\n",
        "      # Track the data fidelity and psnrs of each iteration (see how it was computed above)\n",
        "      losses.append( NotImplemented )\n",
        "      psnrs.append( NotImplemented )\n",
        "\n",
        "    # Return the last output from the denoiser\n",
        "    recon = z\n",
        "\n",
        "    return {\"reconstruction\": recon, \"data_fidelities\": losses, \"psnrs\": psnrs}\n"
      ]
    },
    {
      "cell_type": "markdown",
      "metadata": {
        "id": "kcZNqIb55XAp"
      },
      "source": [
        "# Acquire Reconstructions\n",
        "In lecture, it was mentioned that starting with a high noise level and then decreasing can help performance of PnP-HQS. We will now see this. The function `get_mus` will return mus that correspond to a decreasing noise level when `anneal=True` and will return a constant mu when `anneal=False`. We have already implemented this for you."
      ]
    },
    {
      "cell_type": "code",
      "execution_count": null,
      "metadata": {
        "id": "CCkoDO7fTvFd"
      },
      "outputs": [],
      "source": [
        "denoiser = dinv.models.DRUNet(pretrained=\"/content/drunet_color.pth\", device=device)\n",
        "data_fidelity = dinv.optim.data_fidelity.L2()\n",
        "\n",
        "# PnP-HQS Parameters. Do not change this when turning in.\n",
        "lam = .23\n",
        "num_iter = 24\n",
        "\n",
        "mus = get_mus(lam, num_iter, anneal=False)\n",
        "constant_result = NotImplemented\n",
        "\n",
        "mus = get_mus(lam, num_iter, anneal=True)\n",
        "annealed_result = NotImplemented\n",
        "\n"
      ]
    },
    {
      "cell_type": "markdown",
      "metadata": {
        "id": "FZLU8tfJ98w4"
      },
      "source": [
        "# Comparison\n",
        "In the following cell, compare the reconstructed PSNRs and images."
      ]
    },
    {
      "cell_type": "code",
      "execution_count": null,
      "metadata": {
        "id": "VgNSi3bD8H6q"
      },
      "outputs": [],
      "source": [
        "NotImplemented"
      ]
    },
    {
      "cell_type": "markdown",
      "metadata": {
        "id": "U9v7YAcZ-U1-"
      },
      "source": [
        "# Give a brief response to the following\n",
        "1. Why does reducing the noise level during the PnP iterations help?\n",
        "2. Is PnP-HQS a fixed point algorithm when a constant mu is used? What about when a increasing mu is used? Why?"
      ]
    },
    {
      "cell_type": "markdown",
      "metadata": {
        "id": "sLyWc3fR_FuJ"
      },
      "source": []
    }
  ],
  "metadata": {
    "accelerator": "GPU",
    "colab": {
      "gpuType": "T4",
      "provenance": []
    },
    "kernelspec": {
      "display_name": "Python 3",
      "name": "python3"
    },
    "language_info": {
      "codemirror_mode": {
        "name": "ipython",
        "version": 3
      },
      "file_extension": ".py",
      "mimetype": "text/x-python",
      "name": "python",
      "nbconvert_exporter": "python",
      "pygments_lexer": "ipython3",
      "version": "3.11.7"
    }
  },
  "nbformat": 4,
  "nbformat_minor": 0
}
